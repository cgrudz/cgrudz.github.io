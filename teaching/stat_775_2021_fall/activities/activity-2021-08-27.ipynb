{
 "cells": [
  {
   "cell_type": "markdown",
   "id": "ac10039d",
   "metadata": {},
   "source": [
    "# Introduction to Python part II\n",
    "\n",
    "Recall the [python-novice-inflammation-data.zip](https://swcarpentry.github.io/python-novice-inflammation/data/python-novice-inflammation-data.zip), [python-novice-inflammation-code.zip](https://swcarpentry.github.io/python-novice-inflammation/code/python-novice-inflammation-code.zip) and the`swc-python` directory created last time.  You will need to run this notebook in that directory or call a path to it in the following."
   ]
  },
  {
   "cell_type": "markdown",
   "id": "1ab978fd",
   "metadata": {},
   "source": [
    "## Activity 1: Basics of Modules\n",
    "To begin processing inflammation data, we need to load it into Python. We can do that using a library called `numpy`, which stands for Numerical Python.  To tell Python that we'd like to start using NumPy, we need to import it:"
   ]
  },
  {
   "cell_type": "code",
   "execution_count": null,
   "id": "6c13ef89",
   "metadata": {},
   "outputs": [],
   "source": [
    "import numpy as np"
   ]
  },
  {
   "cell_type": "markdown",
   "id": "ef60fc86",
   "metadata": {},
   "source": [
    "If `numpy` isn't already installed, you can install it with Conda or mini-Conda as"
   ]
  },
  {
   "cell_type": "code",
   "execution_count": null,
   "id": "0da66650",
   "metadata": {},
   "outputs": [],
   "source": [
    "conda install numpy"
   ]
  },
  {
   "cell_type": "markdown",
   "id": "5325e6b6",
   "metadata": {},
   "source": [
    "Importing a library is like getting a piece of lab equipment out of a storage locker. Libraries provide additional functionality to the basic Python language. \n",
    "\n",
    "Importing too many libraries can sometimes complicate and slow down your programs - so we only import what we need for each program.  Likewise, we can keep our tools organized by keeping the association of the toolbox from which it came. \n",
    "\n",
    "Numpy has many tools, and some of them have the same name in other boxes.  To differentiate the tools and where they came from, a common convention is to use `.` notations:"
   ]
  },
  {
   "cell_type": "code",
   "execution_count": null,
   "id": "4e49f97d",
   "metadata": {},
   "outputs": [],
   "source": [
    "np.array"
   ]
  },
  {
   "cell_type": "markdown",
   "id": "545314c5",
   "metadata": {},
   "source": [
    "As an example, John Smith is the John that belongs to the Smith family. We could use the dot notation to write his name `smith.john`, just as loadtxt is a function that belongs to the numpy library."
   ]
  },
  {
   "cell_type": "markdown",
   "id": "8a35e001",
   "metadata": {},
   "source": [
    "### Exercise 1:\n",
    "\n",
    "The `numpy` library has a function used for reading text called `loadtxt`. First load the documentation on the `loadtxt` function with the `?` command.  Then, try to specify the appropriate path and load the `inflammation-01.csv` into a new variable `data`.\n"
   ]
  },
  {
   "cell_type": "code",
   "execution_count": null,
   "id": "06c87c6f",
   "metadata": {},
   "outputs": [],
   "source": []
  },
  {
   "cell_type": "markdown",
   "id": "e4f92083",
   "metadata": {},
   "source": [
    "### Exercise 2:\n",
    "\n",
    "Recall the `type` function we used in the last session.  Try using this to find out the type of data in the variable `data`.  Does this seem satisfactory?  What happens when you try the command `data.dtype`?  What do you think this represents?"
   ]
  },
  {
   "cell_type": "code",
   "execution_count": null,
   "id": "90fe73d8",
   "metadata": {},
   "outputs": [],
   "source": []
  },
  {
   "cell_type": "code",
   "execution_count": null,
   "id": "f0ec1598",
   "metadata": {},
   "outputs": [],
   "source": []
  },
  {
   "cell_type": "markdown",
   "id": "5135a834",
   "metadata": {},
   "source": [
    "### Exercise 3:\n",
    "\n",
    "We know that the above array contains a certain type of uniform data from the above commands.  What if we want to know how much data we have on hand?  Try the following commands and discuss what the meaning of the outputs are:\n",
    " \n",
    "  * `len(data`\n",
    "  * `np.shape(data)`\n",
    "  * `data.shape`"
   ]
  },
  {
   "cell_type": "code",
   "execution_count": null,
   "id": "1b731c47",
   "metadata": {},
   "outputs": [],
   "source": []
  },
  {
   "cell_type": "markdown",
   "id": "f6bdea37",
   "metadata": {},
   "source": [
    "## Activity 2: Indices"
   ]
  },
  {
   "cell_type": "markdown",
   "id": "96566039",
   "metadata": {},
   "source": [
    "### Exercise 1:\n",
    "\n",
    "Programming languages like Fortran, MATLAB and R start counting at 1 because that’s what human beings have done for thousands of years. Languages in the C family (including C++, Java, Perl, and Python) count from 0 because it is closer to the way that computers represent arrays. As a result, if we have an `M×N` array in Python, its indices go from `0` to `M-1` on the first axis and `0` to `N-1` on the second.\n",
    "![Python array indexing](https://swcarpentry.github.io/python-novice-inflammation/fig/python-zero-index.svg)\n",
    "\n",
    "\n",
    "It may surprise you is that when Python displays an array, it shows the element with index `[0, 0]` in the upper left corner rather than the lower left. This is consistent with the way mathematicians draw matrices but different from the Cartesian coordinates. \n",
    "\n",
    "The indices are (row, column) instead of (column, row) for the same reason, which can be confusing when plotting data.\n",
    "\n",
    "Furthermore, Python supports negative indexing where `-1` represents the last entry, `-2` the second to last entry, etc..."
   ]
  },
  {
   "cell_type": "markdown",
   "id": "12979c6d",
   "metadata": {},
   "source": [
    "In the following, try to extract the element of the array in the fourth row and second column in two ways, once using the forward index and once with the backward index:"
   ]
  },
  {
   "cell_type": "code",
   "execution_count": null,
   "id": "f40b5c59",
   "metadata": {},
   "outputs": [],
   "source": []
  },
  {
   "cell_type": "code",
   "execution_count": null,
   "id": "bc93850f",
   "metadata": {},
   "outputs": [],
   "source": []
  },
  {
   "cell_type": "markdown",
   "id": "41904720",
   "metadata": {},
   "source": [
    "### Exercise 2:\n",
    "\n",
    "An index like `[30, 20]` selects a single element of an array, but we can select whole sections as well. For example, we can select the first ten days (columns) of values for the first four patients (rows) like this:"
   ]
  },
  {
   "cell_type": "code",
   "execution_count": null,
   "id": "dbe06b3f",
   "metadata": {},
   "outputs": [],
   "source": []
  },
  {
   "cell_type": "markdown",
   "id": "eb0b488a",
   "metadata": {},
   "source": [
    "Notice that the dimensions of the above slice are exactly given by the difference of the lower index and the upper index -- this means that the slice has to be non-inclusive on one end of the slice.  \n",
    "\n",
    "Determine in the below, which of the indices are included in an arbitrary slice.  What happens when we index a slice as `data[1:1]` with matching end points?  What happens when we suppress an endpoint in a slice such as `data[30:,1]`?  What happens when we suppress both end points as in `data[:,1]`?  "
   ]
  },
  {
   "cell_type": "code",
   "execution_count": null,
   "id": "df98c0f8",
   "metadata": {},
   "outputs": [],
   "source": []
  }
 ],
 "metadata": {
  "kernelspec": {
   "display_name": "Python 3",
   "language": "python",
   "name": "python3"
  },
  "language_info": {
   "codemirror_mode": {
    "name": "ipython",
    "version": 3
   },
   "file_extension": ".py",
   "mimetype": "text/x-python",
   "name": "python",
   "nbconvert_exporter": "python",
   "pygments_lexer": "ipython3",
   "version": "3.9.5"
  }
 },
 "nbformat": 4,
 "nbformat_minor": 5
}
