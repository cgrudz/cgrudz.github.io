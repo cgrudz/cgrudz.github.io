{
 "cells": [
  {
   "cell_type": "markdown",
   "id": "2002f115",
   "metadata": {},
   "source": [
    "# Introduction to Python part VI (And a discussion of random vectors)"
   ]
  },
  {
   "cell_type": "markdown",
   "id": "743b2102",
   "metadata": {},
   "source": [
    "## Activity 1: Discussion of multiple random variables\n",
    "\n",
    "  * How is the notion of the expected value extended into multiple variables?  What does this represent?\n",
    "  * What is a marginal distribution / density?  How is this related to a joint distribution / density for multiple variables?\n",
    "  \n",
    "  * How is the marginal related to conditional probability and indepdendence?\n",
    "  \n",
    "  * What is an ensemble matrix?  How is this related to a sampling distribution?  How is the ensemble matrix related to the sample mean?"
   ]
  },
  {
   "cell_type": "markdown",
   "id": "541562c2",
   "metadata": {},
   "source": [
    "## Activity 2: Python lists"
   ]
  },
  {
   "cell_type": "markdown",
   "id": "9843645e",
   "metadata": {},
   "source": [
    "Unlike `NumPy` arrays, lists are a data structure built into the base Python language so we do not have to load a library to use them. We create a list by putting values inside square brackets and separating the values with commas:"
   ]
  },
  {
   "cell_type": "code",
   "execution_count": null,
   "id": "873bf93d",
   "metadata": {},
   "outputs": [],
   "source": [
    "odds = [1, 3, 5, 7]\n",
    "print('odds are:', odds)"
   ]
  },
  {
   "cell_type": "markdown",
   "id": "440def1b",
   "metadata": {},
   "source": [
    "We can access elements of a list using indices – numbered positions of elements in the list. These positions are numbered starting at 0, so the first element has an index of 0."
   ]
  },
  {
   "cell_type": "code",
   "execution_count": null,
   "id": "7361e7dd",
   "metadata": {},
   "outputs": [],
   "source": [
    "print('first element:', odds[0])\n",
    "print('last element:', odds[3])\n",
    "print('\"-1\" element:', odds[-1])"
   ]
  },
  {
   "cell_type": "markdown",
   "id": "41f15a05",
   "metadata": {},
   "source": [
    "Note that the elements of lists, like arrays are \"mutable\" or changeable after they are defined"
   ]
  },
  {
   "cell_type": "code",
   "execution_count": null,
   "id": "2824c748",
   "metadata": {},
   "outputs": [],
   "source": [
    "odds[0] = 10\n",
    "print('first element:', odds[0])"
   ]
  },
  {
   "cell_type": "markdown",
   "id": "11147bc8",
   "metadata": {},
   "source": [
    "### Exercise 1"
   ]
  },
  {
   "cell_type": "markdown",
   "id": "bee9b82b",
   "metadata": {},
   "source": [
    "Consider the following code"
   ]
  },
  {
   "cell_type": "code",
   "execution_count": null,
   "id": "b35b62c6",
   "metadata": {},
   "outputs": [],
   "source": [
    "salsa = ['peppers', 'onions', 'cilantro', 'tomatoes']\n",
    "my_salsa = salsa\n",
    "salsa[0] = 'hot peppers'"
   ]
  },
  {
   "cell_type": "markdown",
   "id": "d0f27245",
   "metadata": {},
   "source": [
    "If you print out the above what do you get for the salsa recipie?  How does this compare to the below, similar operation?"
   ]
  },
  {
   "cell_type": "code",
   "execution_count": null,
   "id": "6f421f81",
   "metadata": {},
   "outputs": [],
   "source": [
    "salsa = ['peppers', 'onions', 'cilantro', 'tomatoes']\n",
    "my_salsa = list(salsa) \n",
    "salsa[0] = 'hot peppers'"
   ]
  },
  {
   "cell_type": "markdown",
   "id": "3d951892",
   "metadata": {},
   "source": [
    "Can you explain the difference in outputs?"
   ]
  },
  {
   "cell_type": "markdown",
   "id": "d2b84e01",
   "metadata": {},
   "source": [
    "### Exercise 2:\n",
    "\n",
    "Since a list can contain any Python variables, it can even contain other lists.\n",
    "\n",
    "For example, we could represent the products in the shelves of a small grocery shop:"
   ]
  },
  {
   "cell_type": "code",
   "execution_count": null,
   "id": "90c7223b",
   "metadata": {},
   "outputs": [],
   "source": [
    "x = [['pepper', 'zucchini', 'onion'],\n",
    "     ['cabbage', 'lettuce', 'garlic'],\n",
    "     ['apple', 'pear', 'banana']]"
   ]
  },
  {
   "cell_type": "markdown",
   "id": "342499af",
   "metadata": {},
   "source": [
    "Here is an example of how nested indexing works visually:"
   ]
  },
  {
   "cell_type": "markdown",
   "id": "1b78b9bb",
   "metadata": {},
   "source": [
    "![Nested lists](https://swcarpentry.github.io/python-novice-inflammation/fig/indexing_lists_python.png)"
   ]
  },
  {
   "cell_type": "markdown",
   "id": "00f00e77",
   "metadata": {},
   "source": [
    "Using the above conventions, can you extract the `bag` in `cabbage` from `x`? "
   ]
  },
  {
   "cell_type": "markdown",
   "id": "d1e02c71",
   "metadata": {},
   "source": [
    "### Exercise 3:\n",
    "\n",
    "Two essential methods that are defined on lists are the following"
   ]
  },
  {
   "cell_type": "code",
   "execution_count": null,
   "id": "c6a0d792",
   "metadata": {},
   "outputs": [],
   "source": [
    "my_list = [\"banana\", 10, 35, \"orange\"]\n",
    "my_list.pop()"
   ]
  },
  {
   "cell_type": "code",
   "execution_count": null,
   "id": "47f2a35b",
   "metadata": {},
   "outputs": [],
   "source": [
    "my_list.append(\"orange\")\n",
    "my_list"
   ]
  },
  {
   "cell_type": "markdown",
   "id": "ceede47c",
   "metadata": {},
   "source": [
    "While modifying in place, it is useful to remember that Python treats lists in a slightly counter-intuitive way.\n",
    "\n",
    "As we saw earlier, when we modified the salsa list item in-place, if we make a list, (attempt to) copy it and then modify this list, we can cause all sorts of trouble. This also applies to modifying the list using the above functions. What do you think the outputs will be from the following operations?"
   ]
  },
  {
   "cell_type": "code",
   "execution_count": null,
   "id": "eae5b280",
   "metadata": {},
   "outputs": [],
   "source": [
    "odds = [1, 3, 5, 7]\n",
    "primes = odds\n",
    "primes.append(2)"
   ]
  },
  {
   "cell_type": "markdown",
   "id": "7371f054",
   "metadata": {},
   "source": [
    "### Exercise 4\n",
    "\n",
    "So far we’ve seen how to use slicing to take single blocks of successive entries from a sequence. But what if we want to take a subset of entries that aren’t next to each other in the sequence?\n",
    "\n",
    "You can achieve this by providing a third argument to the range within the brackets, called the step size. The example below shows how you can take every third entry in a list:"
   ]
  },
  {
   "cell_type": "code",
   "execution_count": null,
   "id": "a1ec4313",
   "metadata": {},
   "outputs": [],
   "source": [
    "primes = [2, 3, 5, 7, 11, 13, 17, 19, 23, 29, 31, 37]\n",
    "subset = primes[0:12:3]\n",
    "print('subset', subset)"
   ]
  },
  {
   "cell_type": "markdown",
   "id": "4a5afb64",
   "metadata": {},
   "source": [
    "Notice that the slice taken begins with the first entry in the range, followed by entries taken at equally-spaced intervals (the steps) thereafter."
   ]
  },
  {
   "cell_type": "markdown",
   "id": "ecb8ca17",
   "metadata": {},
   "source": [
    "What slice of beatles will produce the following output (i.e., the first character, third character, and every other character through the end of the string)?\n",
    "\n",
    "```\n",
    "I notpssgre ntesae\n",
    "```"
   ]
  },
  {
   "cell_type": "code",
   "execution_count": null,
   "id": "79085a67",
   "metadata": {},
   "outputs": [],
   "source": [
    "beatles = \"In an octopus's garden in the shade\"\n"
   ]
  },
  {
   "cell_type": "markdown",
   "id": "37b10ac0",
   "metadata": {},
   "source": [
    "### Exercise 5\n",
    "\n",
    "`+` usually means addition, but when used on strings or lists, it means “concatenate”. Given that, what do you think the multiplication operator `*` does on lists? In particular, what will be the output of the following code?"
   ]
  },
  {
   "cell_type": "code",
   "execution_count": null,
   "id": "e827612a",
   "metadata": {},
   "outputs": [],
   "source": [
    "counts = [2, 4, 6, 8, 10]\n",
    "repeats = counts * 2\n",
    "print(repeats)"
   ]
  }
 ],
 "metadata": {
  "kernelspec": {
   "display_name": "Python 3",
   "language": "python",
   "name": "python3"
  },
  "language_info": {
   "codemirror_mode": {
    "name": "ipython",
    "version": 3
   },
   "file_extension": ".py",
   "mimetype": "text/x-python",
   "name": "python",
   "nbconvert_exporter": "python",
   "pygments_lexer": "ipython3",
   "version": "3.9.5"
  }
 },
 "nbformat": 4,
 "nbformat_minor": 5
}
