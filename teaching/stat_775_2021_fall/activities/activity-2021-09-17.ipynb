{
 "cells": [
  {
   "cell_type": "markdown",
   "id": "2002f115",
   "metadata": {},
   "source": [
    "# Introduction to Python part X (And a discussion of stochastic Gauss-Markov processes)"
   ]
  },
  {
   "cell_type": "markdown",
   "id": "743b2102",
   "metadata": {},
   "source": [
    "## Activity 1: Discussion of Gauss-Markov processes\n",
    "\n",
    "  * What is a Markov process and how does this relate to the notion of an initial value problem?\n",
    "  * What is a discrete Gauss-Markov model?  There is a specific form for the equation, can you describe it?\n",
    "  * What is the fundamental property of a Gauss-Markov model?\n",
    "  * What does it mean, \"propagation of the mean state and covariance\" for a Gauss-Markov model?  Why is this recursive set of equations useful?"
   ]
  },
  {
   "cell_type": "markdown",
   "id": "541562c2",
   "metadata": {},
   "source": [
    "## Activity 2: Creating Functions"
   ]
  },
  {
   "cell_type": "markdown",
   "id": "0d1522ae",
   "metadata": {},
   "source": [
    "At this point, we’ve written code to draw some interesting features in our inflammation data, loop over all our data files to quickly draw these plots for each of them, and have Python make decisions based on what it sees in our data. But, our code is getting pretty long and complicated; what if we had thousands of datasets, and didn’t want to generate a figure for every single one? Commenting out the figure-drawing code is a nuisance. Also, what if we want to use that code again, on a different dataset or at a different point in our program? Cutting and pasting it is going to make our code get very long and very repetitive, very quickly. We’d like a way to package our code so that it is easier to reuse, and Python provides for this by letting us define things called ‘functions’ — a shorthand way of re-executing longer pieces of code. Let’s start by defining a function fahr_to_celsius that converts temperatures from Fahrenheit to Celsius:"
   ]
  },
  {
   "cell_type": "code",
   "execution_count": 1,
   "id": "ad028024",
   "metadata": {},
   "outputs": [],
   "source": [
    "def fahr_to_celsius(temp):\n",
    "    return ((temp - 32) * (5/9))"
   ]
  },
  {
   "cell_type": "markdown",
   "id": "a6984de2",
   "metadata": {},
   "source": [
    "![Function diagram](https://swcarpentry.github.io/python-novice-inflammation/fig/python-function.svg)"
   ]
  },
  {
   "cell_type": "markdown",
   "id": "f488b76f",
   "metadata": {},
   "source": [
    "The function definition opens with the keyword def followed by the name of the function (fahr_to_celsius) and a parenthesized list of parameter names (temp). The body of the function — the statements that are executed when it runs — is indented below the definition line. The body concludes with a return keyword followed by the return value.\n",
    "\n",
    "When we call the function, the values we pass to it are assigned to those variables so that we can use them inside the function. Inside the function, we use a return statement to send a result back to whoever asked for it.\n",
    "\n",
    "Let’s try running our function.\n",
    "\n"
   ]
  },
  {
   "cell_type": "code",
   "execution_count": 2,
   "id": "851e6f1b",
   "metadata": {},
   "outputs": [
    {
     "data": {
      "text/plain": [
       "0.0"
      ]
     },
     "execution_count": 2,
     "metadata": {},
     "output_type": "execute_result"
    }
   ],
   "source": [
    "fahr_to_celsius(32)"
   ]
  },
  {
   "cell_type": "code",
   "execution_count": 3,
   "id": "f4c51885",
   "metadata": {},
   "outputs": [
    {
     "name": "stdout",
     "output_type": "stream",
     "text": [
      "freezing point of water: 0.0 C\n",
      "boiling point of water: 100.0 C\n"
     ]
    }
   ],
   "source": [
    "print('freezing point of water:', fahr_to_celsius(32), 'C')\n",
    "print('boiling point of water:', fahr_to_celsius(212), 'C')"
   ]
  },
  {
   "cell_type": "markdown",
   "id": "464a44ca",
   "metadata": {},
   "source": [
    "Now that we’ve seen how to turn Fahrenheit into Celsius, we can also write the function to turn Celsius into Kelvin:\n"
   ]
  },
  {
   "cell_type": "code",
   "execution_count": 4,
   "id": "278851b9",
   "metadata": {},
   "outputs": [
    {
     "name": "stdout",
     "output_type": "stream",
     "text": [
      "freezing point of water in Kelvin: 273.15\n"
     ]
    }
   ],
   "source": [
    "def celsius_to_kelvin(temp_c):\n",
    "    return temp_c + 273.15\n",
    "\n",
    "print('freezing point of water in Kelvin:', celsius_to_kelvin(0.))"
   ]
  },
  {
   "cell_type": "markdown",
   "id": "cdaaf61d",
   "metadata": {},
   "source": [
    "What about converting Fahrenheit to Kelvin? We could write out the formula, but we don’t need to. Instead, we can compose the two functions we have already created:\n",
    "\n"
   ]
  },
  {
   "cell_type": "code",
   "execution_count": 5,
   "id": "b92b940d",
   "metadata": {},
   "outputs": [
    {
     "name": "stdout",
     "output_type": "stream",
     "text": [
      "boiling point of water in Kelvin: 373.15\n"
     ]
    }
   ],
   "source": [
    "def fahr_to_kelvin(temp_f):\n",
    "    temp_c = fahr_to_celsius(temp_f)\n",
    "    temp_k = celsius_to_kelvin(temp_c)\n",
    "    return temp_k\n",
    "\n",
    "print('boiling point of water in Kelvin:', fahr_to_kelvin(212.0))"
   ]
  },
  {
   "cell_type": "markdown",
   "id": "c0eed825",
   "metadata": {},
   "source": [
    "This is our first taste of how larger programs are built: we define basic operations, then combine them in ever-larger chunks to get the effect we want. Real-life functions will usually be larger than the ones shown here — typically half a dozen to a few dozen lines — but they shouldn’t ever be much longer than that, or the next person who reads it won’t be able to understand what’s going on."
   ]
  },
  {
   "cell_type": "markdown",
   "id": "1c710ecc",
   "metadata": {},
   "source": [
    "In composing our temperature conversion functions, we created variables inside of those functions, `temp`, `temp_c`, `temp_f`, and `temp_k`. We refer to these variables as local variables because they no longer exist once the function is done executing. If we try to access their values outside of the function, we will encounter an error:"
   ]
  },
  {
   "cell_type": "code",
   "execution_count": 6,
   "id": "77f16a95",
   "metadata": {},
   "outputs": [
    {
     "ename": "NameError",
     "evalue": "name 'temp_k' is not defined",
     "output_type": "error",
     "traceback": [
      "\u001b[0;31m---------------------------------------------------------------------------\u001b[0m",
      "\u001b[0;31mNameError\u001b[0m                                 Traceback (most recent call last)",
      "\u001b[0;32m<ipython-input-6-eed2471d229b>\u001b[0m in \u001b[0;36m<module>\u001b[0;34m\u001b[0m\n\u001b[0;32m----> 1\u001b[0;31m \u001b[0mprint\u001b[0m\u001b[0;34m(\u001b[0m\u001b[0;34m'Again, temperature in Kelvin was:'\u001b[0m\u001b[0;34m,\u001b[0m \u001b[0mtemp_k\u001b[0m\u001b[0;34m)\u001b[0m\u001b[0;34m\u001b[0m\u001b[0;34m\u001b[0m\u001b[0m\n\u001b[0m",
      "\u001b[0;31mNameError\u001b[0m: name 'temp_k' is not defined"
     ]
    }
   ],
   "source": [
    "print('Again, temperature in Kelvin was:', temp_k)"
   ]
  },
  {
   "cell_type": "markdown",
   "id": "7641cc1f",
   "metadata": {},
   "source": [
    "If you want to reuse the temperature in Kelvin after you have calculated it with `fahr_to_kelvin`, you can store the result of the function call in a variable:\n",
    "\n"
   ]
  },
  {
   "cell_type": "code",
   "execution_count": 7,
   "id": "43a60082",
   "metadata": {},
   "outputs": [
    {
     "name": "stdout",
     "output_type": "stream",
     "text": [
      "temperature in Kelvin was: 373.15\n"
     ]
    }
   ],
   "source": [
    "temp_kelvin = fahr_to_kelvin(212.0)\n",
    "print('temperature in Kelvin was:', temp_kelvin)"
   ]
  },
  {
   "cell_type": "markdown",
   "id": "661496ab",
   "metadata": {},
   "source": [
    "The variable `temp_kelvin`, being defined outside any function, is said to be global.\n",
    "\n",
    "Inside a function, one can read the value of such global variables:"
   ]
  },
  {
   "cell_type": "code",
   "execution_count": 8,
   "id": "3c136055",
   "metadata": {},
   "outputs": [
    {
     "name": "stdout",
     "output_type": "stream",
     "text": [
      "temperature in Fahrenheit was: 212.0\n",
      "temperature in Kelvin was: 373.15\n"
     ]
    }
   ],
   "source": [
    "def print_temperatures():\n",
    "  print('temperature in Fahrenheit was:', temp_fahr)\n",
    "  print('temperature in Kelvin was:', temp_kelvin)\n",
    "\n",
    "temp_fahr = 212.0\n",
    "temp_kelvin = fahr_to_kelvin(temp_fahr)\n",
    "\n",
    "print_temperatures()"
   ]
  },
  {
   "cell_type": "code",
   "execution_count": null,
   "id": "f5345d99",
   "metadata": {},
   "outputs": [],
   "source": []
  }
 ],
 "metadata": {
  "kernelspec": {
   "display_name": "Python 3",
   "language": "python",
   "name": "python3"
  },
  "language_info": {
   "codemirror_mode": {
    "name": "ipython",
    "version": 3
   },
   "file_extension": ".py",
   "mimetype": "text/x-python",
   "name": "python",
   "nbconvert_exporter": "python",
   "pygments_lexer": "ipython3",
   "version": "3.9.5"
  }
 },
 "nbformat": 4,
 "nbformat_minor": 5
}
