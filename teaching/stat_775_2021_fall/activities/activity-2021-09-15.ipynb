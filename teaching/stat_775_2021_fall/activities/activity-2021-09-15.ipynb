{
 "cells": [
  {
   "cell_type": "markdown",
   "id": "2002f115",
   "metadata": {},
   "source": [
    "# Introduction to Python part IX (And a discussion of stochastic processes)"
   ]
  },
  {
   "cell_type": "markdown",
   "id": "743b2102",
   "metadata": {},
   "source": [
    "## Activity 1: Discussion of stochastic processes\n",
    "\n",
    "  * How does a stochastic process extend the idea of a random vector?  What are two additional considerations we have to make in this extension?\n",
    "  * What is a Gaussian process?  What are two well-known examples of Gaussian processes?\n",
    "  * What properties define a Wiener process?  How is this related to well-known physical models?"
   ]
  },
  {
   "cell_type": "markdown",
   "id": "541562c2",
   "metadata": {},
   "source": [
    "## Activity 2: Conditionals in Python"
   ]
  },
  {
   "cell_type": "markdown",
   "id": "08617760",
   "metadata": {},
   "source": [
    "In our last lesson, we discovered something suspicious was going on in our inflammation data by drawing some plots. How can we use Python to automatically recognize the different features we saw, and take a different action for each? In this lesson, we’ll learn how to write code that runs only when certain conditions are true.\n",
    "\n"
   ]
  },
  {
   "cell_type": "code",
   "execution_count": 1,
   "id": "f5bf0deb",
   "metadata": {},
   "outputs": [
    {
     "name": "stdout",
     "output_type": "stream",
     "text": [
      "not greater\n",
      "done\n"
     ]
    }
   ],
   "source": [
    "num = 37\n",
    "if num > 100:\n",
    "    print('greater')\n",
    "else:\n",
    "    print('not greater')\n",
    "print('done')"
   ]
  },
  {
   "cell_type": "markdown",
   "id": "8d67916b",
   "metadata": {},
   "source": [
    "The second line of this code uses the keyword `if` to tell Python that we want to make a choice. If the test that follows the `if` statement is true, the body of the `if` (i.e., the set of lines indented underneath it) is executed, and “greater” is printed. If the test is false, the body of the `else` is executed instead, and “not greater” is printed. Only one or the other is ever executed before continuing on with program execution to print “done”:"
   ]
  },
  {
   "cell_type": "markdown",
   "id": "09a5687c",
   "metadata": {},
   "source": [
    "![Control flow diagram](https://swcarpentry.github.io/python-novice-inflammation/fig/python-flowchart-conditional.png)"
   ]
  },
  {
   "cell_type": "markdown",
   "id": "faacf5f0",
   "metadata": {},
   "source": [
    "We can also chain several tests together using `elif`, which is short for “`else if`”. The following Python code uses `elif` to print the sign of a number.\n",
    "\n"
   ]
  },
  {
   "cell_type": "code",
   "execution_count": 2,
   "id": "23317737",
   "metadata": {},
   "outputs": [
    {
     "name": "stdout",
     "output_type": "stream",
     "text": [
      "-3 is negative\n"
     ]
    }
   ],
   "source": [
    "num = -3\n",
    "\n",
    "if num > 0:\n",
    "    print(num, 'is positive')\n",
    "elif num == 0:\n",
    "    print(num, 'is zero')\n",
    "else:\n",
    "    print(num, 'is negative')"
   ]
  },
  {
   "cell_type": "markdown",
   "id": "c4fc9f33",
   "metadata": {},
   "source": [
    "Note that to test for equality we use a double equals sign `==` rather than a single equals sign `=` which is used to assign values."
   ]
  },
  {
   "cell_type": "markdown",
   "id": "e363b5fe",
   "metadata": {},
   "source": [
    "Along with the > and == operators we have already used for comparing values in our conditionals, there are a few more options to know about:\n",
    "\n",
    "  * `>`: greater than\n",
    "  * `<`: less than\n",
    "  * `==`: equal to\n",
    "  * `!=`: does not equal\n",
    "  * `>=`: greater than or equal to\n",
    "  * `<=`: less than or equal to"
   ]
  },
  {
   "cell_type": "markdown",
   "id": "2bddb161",
   "metadata": {},
   "source": [
    "We can also combine tests using `and` and `or`. `and` is only true if both parts are true:"
   ]
  },
  {
   "cell_type": "code",
   "execution_count": 3,
   "id": "51b17a15",
   "metadata": {},
   "outputs": [
    {
     "name": "stdout",
     "output_type": "stream",
     "text": [
      "at least one part is false\n"
     ]
    }
   ],
   "source": [
    "if (1 > 0) and (-1 >= 0):\n",
    "    print('both parts are true')\n",
    "else:\n",
    "    print('at least one part is false')"
   ]
  },
  {
   "cell_type": "markdown",
   "id": "ade0b2aa",
   "metadata": {},
   "source": [
    "while or is true if at least one part is true:"
   ]
  },
  {
   "cell_type": "code",
   "execution_count": 4,
   "id": "6bf23afa",
   "metadata": {},
   "outputs": [
    {
     "name": "stdout",
     "output_type": "stream",
     "text": [
      "at least one test is true\n"
     ]
    }
   ],
   "source": [
    "if (1 < 0) or (1 >= 0):\n",
    "    print('at least one test is true')"
   ]
  },
  {
   "cell_type": "markdown",
   "id": "dc65d469",
   "metadata": {},
   "source": [
    "## Activity 3: Checking our Data"
   ]
  },
  {
   "cell_type": "markdown",
   "id": "7981baed",
   "metadata": {},
   "source": [
    "Now that we’ve seen how conditionals work, we can use them to check for the suspicious features we saw in our inflammation data. We are about to use functions provided by the `numpy` module again."
   ]
  },
  {
   "cell_type": "code",
   "execution_count": 6,
   "id": "1bcb6afc",
   "metadata": {},
   "outputs": [],
   "source": [
    "import numpy as np\n",
    "data = np.loadtxt(\"./swc-python/data/inflammation-01.csv\", delimiter=\",\")"
   ]
  },
  {
   "cell_type": "markdown",
   "id": "ccf3d806",
   "metadata": {},
   "source": [
    "From the first couple of plots, we saw that maximum daily inflammation exhibits a strange behavior and raises one unit a day. Wouldn’t it be a good idea to detect such behavior and report it as suspicious? Let’s do that! However, instead of checking every single day of the study, let’s merely check if maximum inflammation in the beginning (day 0) and in the middle (day 20) of the study are equal to the corresponding day numbers."
   ]
  },
  {
   "cell_type": "code",
   "execution_count": 8,
   "id": "9033e17a",
   "metadata": {},
   "outputs": [
    {
     "name": "stdout",
     "output_type": "stream",
     "text": [
      "Suspicious looking maxima!\n"
     ]
    }
   ],
   "source": [
    "max_inflammation_0 = np.max(data, axis=0)[0]\n",
    "max_inflammation_20 = np.max(data, axis=0)[20]\n",
    "\n",
    "if max_inflammation_0 == 0 and max_inflammation_20 == 20:\n",
    "    print('Suspicious looking maxima!')"
   ]
  },
  {
   "cell_type": "markdown",
   "id": "ab4487a8",
   "metadata": {},
   "source": [
    "We also saw a different problem in the third dataset; the minima per day were all zero (looks like a healthy person snuck into our study). We can also check for this with an elif condition:"
   ]
  },
  {
   "cell_type": "code",
   "execution_count": 11,
   "id": "5a8c1895",
   "metadata": {},
   "outputs": [
    {
     "name": "stdout",
     "output_type": "stream",
     "text": [
      "Suspicious looking maxima!\n"
     ]
    }
   ],
   "source": [
    "if max_inflammation_0 == 0 and max_inflammation_20 == 20:\n",
    "    print('Suspicious looking maxima!')\n",
    "elif np.sum(np.min(data, axis=0)) == 0:\n",
    "    print('Minima add up to zero!')"
   ]
  },
  {
   "cell_type": "markdown",
   "id": "bc01f230",
   "metadata": {},
   "source": [
    "And if neither of these conditions are true, we can use else to give the all-clear:"
   ]
  },
  {
   "cell_type": "code",
   "execution_count": 11,
   "id": "f6629121",
   "metadata": {},
   "outputs": [
    {
     "name": "stdout",
     "output_type": "stream",
     "text": [
      "Suspicious looking maxima!\n"
     ]
    }
   ],
   "source": [
    "if max_inflammation_0 == 0 and max_inflammation_20 == 20:\n",
    "    print('Suspicious looking maxima!')\n",
    "elif np.sum(np.min(data, axis=0)) == 0:\n",
    "    print('Minima add up to zero!')\n",
    "else:\n",
    "    print('Seems OK!')"
   ]
  },
  {
   "cell_type": "markdown",
   "id": "ed7a131f",
   "metadata": {},
   "source": [
    "### Exercise:\n",
    "\n",
    "Using `glob` loop over the file names and check each of the files in the loop with the above `if / else` statements.  Print out the file name simultaneously to keep track of which file we are studying, and make sure these are sorted."
   ]
  },
  {
   "cell_type": "code",
   "execution_count": null,
   "id": "b24ddf3d",
   "metadata": {},
   "outputs": [],
   "source": []
  }
 ],
 "metadata": {
  "kernelspec": {
   "display_name": "Python 3",
   "language": "python",
   "name": "python3"
  },
  "language_info": {
   "codemirror_mode": {
    "name": "ipython",
    "version": 3
   },
   "file_extension": ".py",
   "mimetype": "text/x-python",
   "name": "python",
   "nbconvert_exporter": "python",
   "pygments_lexer": "ipython3",
   "version": "3.9.5"
  }
 },
 "nbformat": 4,
 "nbformat_minor": 5
}
