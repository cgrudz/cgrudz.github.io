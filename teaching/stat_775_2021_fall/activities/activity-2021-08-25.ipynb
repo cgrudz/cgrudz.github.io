{
 "cells": [
  {
   "cell_type": "markdown",
   "id": "e369d3c2",
   "metadata": {},
   "source": [
    "# Introduction to Python part I"
   ]
  },
  {
   "cell_type": "markdown",
   "id": "4f49c860",
   "metadata": {},
   "source": [
    "We will start studying how to use Python 3 and some of its most popular scientific libraries. Although one can install a plain-vanilla Python and all required libraries by hand, we recommend installing Anaconda, a Python distribution that comes with everything we need for the lessons in the coming weeks. Detailed installation instructions for various operating systems can be found in [Anaconda documentation](https://docs.anaconda.com/anaconda/install/).  Advanced users may consider using the lighter-weight [MiniConda](https://docs.conda.io/en/latest/miniconda.html)."
   ]
  },
  {
   "cell_type": "markdown",
   "id": "c8d8ae92",
   "metadata": {},
   "source": [
    "## Section 1: Installing Python with Conda / MiniConda\n",
    "\n",
    "For the next ~10 minutes, we will work on installing Conda / MiniConda on each user's system.  We will move into breakout rooms for short discussion and troubleshooting, with a de-brief back together.  Additionally, for advanced users, consider making a clone of my personal fork of DAPPER which will be developed more quickly for this class than the main branch.  The fork is located [here](https://github.com/cgrudz/DAPPER)."
   ]
  },
  {
   "cell_type": "markdown",
   "id": "b1a729b5",
   "metadata": {},
   "source": [
    "## Section 2: Introduction to variables in Python\n",
    "To do anything useful with data, we need to assign its value to a variable. In Python, we can assign a value to a variable, using the equals sign =. For example, we can track the weight of a patient who weighs 60 kilograms by assigning the value 60 to a variable weight_kg:\n",
    "\n"
   ]
  },
  {
   "cell_type": "code",
   "execution_count": null,
   "id": "bb4036e6",
   "metadata": {},
   "outputs": [],
   "source": [
    "weight_kg = 60"
   ]
  },
  {
   "cell_type": "markdown",
   "id": "93ed3153",
   "metadata": {},
   "source": [
    "From now on, whenever we use `weight_kg`, Python will substitute the value we assigned to it. In layman's terms, a variable is a name for a value.\n",
    "\n",
    "In Python, variable names:\n",
    "\n",
    " * can include letters, digits, and underscores\n",
    " * cannot start with a digit\n",
    " * are case sensitive."
   ]
  },
  {
   "cell_type": "markdown",
   "id": "ece24b7e",
   "metadata": {},
   "source": [
    "### Exercise\n",
    "\n",
    "Which of the following below are valid variable names?  What do you expect to get from the following statements in Python?\n",
    "\n",
    " * `weight0` is a valid variable name, whereas `0weight` is not\n",
    " * `weight` and `Weight` are different variables"
   ]
  },
  {
   "cell_type": "code",
   "execution_count": null,
   "id": "6a09be2c",
   "metadata": {},
   "outputs": [],
   "source": [
    "weight0 = 70"
   ]
  },
  {
   "cell_type": "code",
   "execution_count": null,
   "id": "10c9a180",
   "metadata": {},
   "outputs": [],
   "source": [
    "0weight = 70"
   ]
  },
  {
   "cell_type": "code",
   "execution_count": null,
   "id": "07dd5ca4",
   "metadata": {},
   "outputs": [],
   "source": [
    "Weight = 70"
   ]
  },
  {
   "cell_type": "code",
   "execution_count": null,
   "id": "25bb800a",
   "metadata": {},
   "outputs": [],
   "source": [
    "weight = 60"
   ]
  },
  {
   "cell_type": "code",
   "execution_count": null,
   "id": "4ba31f15",
   "metadata": {},
   "outputs": [],
   "source": [
    "Weight - weight"
   ]
  },
  {
   "cell_type": "markdown",
   "id": "a8b6a863",
   "metadata": {},
   "source": [
    "## Section 3: Types of data\n",
    "Python knows various types of data. Three common ones are:\n",
    "\n",
    " * integer numbers `int`\n",
    " * floating point numbers `float`, and\n",
    " * strings `str`.\n",
    "\n",
    "In the example above, variable weight_kg supposedly has an integer value of 60.  The `type` function allows us to inspect a data type in Python.  Inspect the data type of `weight_kg`.  "
   ]
  },
  {
   "cell_type": "markdown",
   "id": "04f9de34",
   "metadata": {},
   "source": [
    "### Exercise\n",
    "Try to convert this data type to each of the others using the commands above.  For instruction on how one can use a function of the above, try using the question mark as below:"
   ]
  },
  {
   "cell_type": "code",
   "execution_count": null,
   "id": "5d8000d7",
   "metadata": {},
   "outputs": [],
   "source": [
    "?int"
   ]
  },
  {
   "cell_type": "code",
   "execution_count": null,
   "id": "effecea3",
   "metadata": {},
   "outputs": [],
   "source": []
  },
  {
   "cell_type": "markdown",
   "id": "2f24fba8",
   "metadata": {},
   "source": [
    "## Section 4: Using Variables in Python\n",
    "Once we have data stored with variable names, we can make use of it in calculations. We may want to store our patient's weight in pounds as well as kilograms:"
   ]
  },
  {
   "cell_type": "code",
   "execution_count": null,
   "id": "7881f2a5",
   "metadata": {},
   "outputs": [],
   "source": [
    "weight_lb = 2.2 * weight_kg"
   ]
  },
  {
   "cell_type": "markdown",
   "id": "a2a910e4",
   "metadata": {},
   "source": [
    "### Exercise \n",
    "\n",
    "Mathematical data types like floats and integers have common mathematical operations defined on them.  \n",
    "What values do the variables mass and age have after each of the following statements? Test your answer by executing the lines."
   ]
  },
  {
   "cell_type": "code",
   "execution_count": null,
   "id": "fe644443",
   "metadata": {},
   "outputs": [],
   "source": [
    "mass = 47.5\n",
    "age = 122\n",
    "mass = mass * 2.0\n",
    "age = age - 20"
   ]
  },
  {
   "cell_type": "code",
   "execution_count": null,
   "id": "428fadd0",
   "metadata": {},
   "outputs": [],
   "source": []
  },
  {
   "cell_type": "markdown",
   "id": "59d763b7",
   "metadata": {},
   "source": [
    "Strings also have \"overloaded\" mathematical operations defined, which make for convenient syntax.  Suppose we define a patient ID number below."
   ]
  },
  {
   "cell_type": "code",
   "execution_count": null,
   "id": "4bdd6c71",
   "metadata": {},
   "outputs": [],
   "source": [
    "patient_id = '001'"
   ]
  },
  {
   "cell_type": "markdown",
   "id": "3dc599f8",
   "metadata": {},
   "source": [
    "Suppose now that we also want to add a prefix for the group number of the patient.  "
   ]
  },
  {
   "cell_type": "code",
   "execution_count": null,
   "id": "985c39c9",
   "metadata": {},
   "outputs": [],
   "source": [
    "group_id = '005'"
   ]
  },
  {
   "cell_type": "markdown",
   "id": "01dea941",
   "metadata": {},
   "source": [
    "A mathematical operation can be overloaded to combine the two string variables above. However, a sensible naming convention would tell the user what each value corresponds to -- such as"
   ]
  },
  {
   "cell_type": "code",
   "execution_count": null,
   "id": "5244543b",
   "metadata": {},
   "outputs": [],
   "source": [
    "full_patient_info = 'group id 005 patient id 001'"
   ]
  },
  {
   "cell_type": "markdown",
   "id": "6733ae37",
   "metadata": {},
   "source": [
    "Try to overload a mathematical operation to concatenate strings to re-produce the `full_patient_info` variable in the cell below, assigning this string the name `patient_id`:"
   ]
  },
  {
   "cell_type": "code",
   "execution_count": null,
   "id": "44b2f9f6",
   "metadata": {},
   "outputs": [],
   "source": []
  },
  {
   "cell_type": "markdown",
   "id": "08969fba",
   "metadata": {},
   "source": [
    "## Section 5: Built-in Python functions\n",
    "\n",
    "To carry out common tasks with data and variables in Python, the language provides us with several built-in functions\n"
   ]
  },
  {
   "cell_type": "code",
   "execution_count": null,
   "id": "5c531789",
   "metadata": {},
   "outputs": [],
   "source": [
    "print(weight_lb)\n",
    "print(patient_id)"
   ]
  },
  {
   "cell_type": "markdown",
   "id": "d21c3d6b",
   "metadata": {},
   "source": [
    "When we call a function, we follow its name by parentheses. The parentheses are important: if you leave them off, the function doesn't actually run! Sometimes you will include values or variables inside the parentheses for the function to use. In the case of print, we use the parentheses to tell the function what value we want to display."
   ]
  },
  {
   "cell_type": "code",
   "execution_count": null,
   "id": "5672fbec",
   "metadata": {},
   "outputs": [],
   "source": [
    "print(patient_id, 'weight in kilograms:', weight_kg)"
   ]
  },
  {
   "cell_type": "markdown",
   "id": "1a51b5a2",
   "metadata": {},
   "source": [
    "### Exercise\n",
    "\n",
    "We can actually use mathematical expressions within function calls in order to simplify some Python syntax.  Try convering the patient weight to grams in the function call above with the proper mathematical operation."
   ]
  },
  {
   "cell_type": "code",
   "execution_count": null,
   "id": "33a98d9c",
   "metadata": {},
   "outputs": [],
   "source": []
  },
  {
   "cell_type": "markdown",
   "id": "05c9474d",
   "metadata": {},
   "source": [
    "### Exercise \n",
    "Python allows you to assign multiple values to multiple variables in one line by separating \n",
    "the variables and values with commas. Assign the following variables below:"
   ]
  },
  {
   "cell_type": "code",
   "execution_count": null,
   "id": "89ace0d6",
   "metadata": {},
   "outputs": [],
   "source": [
    "first, second = 'Grace', 'Hopper'\n",
    "third, fourth = second, first"
   ]
  },
  {
   "cell_type": "markdown",
   "id": "f2732a55",
   "metadata": {},
   "source": [
    "What would the following line print if used after the assignment?\n",
    "`print(third, fourth)`"
   ]
  },
  {
   "cell_type": "code",
   "execution_count": null,
   "id": "35e7becb",
   "metadata": {},
   "outputs": [],
   "source": []
  },
  {
   "cell_type": "markdown",
   "id": "e9d676e8",
   "metadata": {},
   "source": [
    "## Obtain further lesson materials\n",
    "\n",
    "We will need some additional data in the coming weeks as we follow Software Carpentry's intro to Python lessons. Get these ready for next time:\n",
    "  \n",
    "  1. Download [python-novice-inflammation-data.zip](https://swcarpentry.github.io/python-novice-inflammation/data/python-novice-inflammation-data.zip) and [python-novice-inflammation-code.zip](https://swcarpentry.github.io/python-novice-inflammation/code/python-novice-inflammation-code.zip).\n",
    "  2. Create a folder called `swc-python` in a working Python directory of your choice.\n",
    "  3. Move downloaded files to `swc-python`.\n",
    "  4. Unzip the files.\n",
    "You should see two folders called data and code in the swc-python directory."
   ]
  },
  {
   "cell_type": "code",
   "execution_count": null,
   "id": "1e542a29",
   "metadata": {},
   "outputs": [],
   "source": []
  }
 ],
 "metadata": {
  "kernelspec": {
   "display_name": "Python 3",
   "language": "python",
   "name": "python3"
  },
  "language_info": {
   "codemirror_mode": {
    "name": "ipython",
    "version": 3
   },
   "file_extension": ".py",
   "mimetype": "text/x-python",
   "name": "python",
   "nbconvert_exporter": "python",
   "pygments_lexer": "ipython3",
   "version": "3.9.5"
  }
 },
 "nbformat": 4,
 "nbformat_minor": 5
}
