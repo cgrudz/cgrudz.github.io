{
 "cells": [
  {
   "cell_type": "markdown",
   "id": "2002f115",
   "metadata": {},
   "source": [
    "# Introduction to Python part VII (And a discussion of the covariance and the multivariate Gaussian)"
   ]
  },
  {
   "cell_type": "markdown",
   "id": "743b2102",
   "metadata": {},
   "source": [
    "## Activity 1: Discussion of multiple random variables\n",
    "\n",
    "  * What is the covariance / correlation between two random variables and how are they related?\n",
    "  * What do we refer to when we discuss the \"background\" covariance matrix?  What special properties do we know about this matrix?\n",
    "  * What is the anomaly matrix?  How is this related to the ensemble matrix?\n",
    "  * What is the relationship between the anomaly matrix and the empirical covariance?  What is the relationship to the background covariance?\n",
    "  * What is the implication of the multivariate central limit theorem for the ensemble mean?"
   ]
  },
  {
   "cell_type": "markdown",
   "id": "541562c2",
   "metadata": {},
   "source": [
    "## Activity 2: Looping in Python"
   ]
  },
  {
   "attachments": {},
   "cell_type": "markdown",
   "id": "735b81d8",
   "metadata": {},
   "source": [
    "In the episode about visualizing data, we wrote Python code that plots values of interest from our first inflammation dataset (inflammation-01.csv), which revealed some suspicious features in it.\n",
    "\n",
    "![Supsicious data](https://swcarpentry.github.io/python-novice-inflammation/fig/03-loop_2_0.png)\n",
    "\n",
    "We have a dozen data sets right now, though, and more on the way. We want to create plots for all of our data sets with a single statement. To do that, we’ll have to teach the computer how to repeat things.\n",
    "\n",
    "An example task that we might want to repeat is accessing numbers in a list, which we will do by printing each number on a line of its own.  This is done with the `for` loop with syntax as follows:\n",
    "\n"
   ]
  },
  {
   "cell_type": "code",
   "execution_count": null,
   "id": "89b74a90",
   "metadata": {},
   "outputs": [],
   "source": [
    "odds = [1, 3, 5, 7, 9, 11]\n",
    "for num in odds:\n",
    "    print(num)"
   ]
  },
  {
   "cell_type": "markdown",
   "id": "c078549a",
   "metadata": {},
   "source": [
    "This follows the convention in Python where we can name an iterator for a list or an interable object as an arbitrary variable name, and sequence over the iterable in order:\n",
    "\n",
    "![looping diagram](https://swcarpentry.github.io/python-novice-inflammation/fig/05-loops_image_num.png)"
   ]
  },
  {
   "cell_type": "markdown",
   "id": "3c7345f9",
   "metadata": {},
   "source": [
    "Note that Python requires the use of the `:` to signify the end of the loop statement, and requires an indentation of four spaces to initiate the loop.  The next line that ends the space convention will automatically end the loop."
   ]
  },
  {
   "cell_type": "markdown",
   "id": "52f09a5b",
   "metadata": {},
   "source": [
    "### Exercise 1: \n",
    "\n",
    "As a quick exercise, see if the following loops work:"
   ]
  },
  {
   "cell_type": "code",
   "execution_count": null,
   "id": "f7b530a8",
   "metadata": {},
   "outputs": [],
   "source": [
    "for num in odds\n",
    "    print(num)"
   ]
  },
  {
   "cell_type": "code",
   "execution_count": null,
   "id": "77d413bd",
   "metadata": {},
   "outputs": [],
   "source": [
    "for num in odds:\n",
    "print(num)"
   ]
  },
  {
   "cell_type": "code",
   "execution_count": null,
   "id": "7a2726be",
   "metadata": {},
   "outputs": [],
   "source": [
    "for banana in odds:\n",
    "    print(banana)"
   ]
  },
  {
   "cell_type": "markdown",
   "id": "51da5257",
   "metadata": {},
   "source": [
    "### Exercise 2:\n",
    "\n",
    "Python has a built-in function called `range` that generates a sequence of numbers. `range` can accept 1, 2, or 3 parameters.\n",
    "\n",
    "  * If one parameter is given, range generates a sequence of that length, starting at zero and incrementing by 1. For example, `range(3)` produces the numbers 0, 1, 2.\n",
    "\n",
    "  * If two parameters are given, range starts at the first and ends just before the second, incrementing by one. For example, `range(2, 5)` produces 2, 3, 4.\n",
    "  \n",
    "  * If range is given 3 parameters, it starts at the first one, ends just before the second one, and increments by the third one. For example, `range(3, 10, 2)` produces 3, 5, 7, 9.\n",
    "\n",
    "\n",
    "Using `range`, write a loop that uses range to print the first 3 natural numbers:"
   ]
  },
  {
   "cell_type": "code",
   "execution_count": null,
   "id": "40d000ac",
   "metadata": {},
   "outputs": [],
   "source": []
  },
  {
   "cell_type": "markdown",
   "id": "afa0e06b",
   "metadata": {},
   "source": [
    "### Exercise 3:\n",
    "\n",
    "Given the following loop:\n",
    "```\n",
    "word = 'oxygen'\n",
    "for char in word:\n",
    "    print(char)\n",
    "```\n",
    "How many times is the body of the loop executed?"
   ]
  },
  {
   "cell_type": "code",
   "execution_count": null,
   "id": "c1ed20cf",
   "metadata": {},
   "outputs": [],
   "source": []
  },
  {
   "cell_type": "markdown",
   "id": "3c0cbeeb",
   "metadata": {},
   "source": [
    "### Exercise 4:\n",
    "\n",
    "Exponentiation is built into Python:\n",
    "\n"
   ]
  },
  {
   "cell_type": "code",
   "execution_count": null,
   "id": "91de7747",
   "metadata": {},
   "outputs": [],
   "source": [
    "2**3"
   ]
  },
  {
   "cell_type": "markdown",
   "id": "42a4fc58",
   "metadata": {},
   "source": [
    "Write a loop that calculates the same result as 2 ** 3 using multiplication (and without exponentiation)."
   ]
  },
  {
   "cell_type": "code",
   "execution_count": null,
   "id": "23333bda",
   "metadata": {},
   "outputs": [],
   "source": []
  },
  {
   "cell_type": "markdown",
   "id": "87b03405",
   "metadata": {},
   "source": [
    "### Exercise 5:\n",
    "\n",
    "The built-in function `enumerate` takes a sequence (e.g. a list) and generates a new sequence of the same length. Each element of the new sequence is a pair composed of the index `(0, 1, 2,…)` and the value from the original sequence:"
   ]
  },
  {
   "cell_type": "code",
   "execution_count": null,
   "id": "c11c300f",
   "metadata": {},
   "outputs": [],
   "source": [
    "for idx, val in enumerate(a_list):\n",
    "    # Do something using idx and val"
   ]
  },
  {
   "cell_type": "markdown",
   "id": "7e9c9330",
   "metadata": {},
   "source": [
    "The code above loops through a_list, assigning the index to idx and the value to val.\n",
    "\n",
    "Suppose you have encoded a polynomial as a list of coefficients in the following way: the first element is the constant term, the second element is the coefficient of the linear term, the third is the coefficient of the quadratic term, etc.\n",
    "\n"
   ]
  },
  {
   "cell_type": "code",
   "execution_count": null,
   "id": "57175b42",
   "metadata": {},
   "outputs": [],
   "source": [
    "x = 5\n",
    "coefs = [2, 4, 3]\n",
    "y = coefs[0] * x**0 + coefs[1] * x**1 + coefs[2] * x**2\n",
    "print(y)"
   ]
  },
  {
   "cell_type": "markdown",
   "id": "ef83c24b",
   "metadata": {},
   "source": [
    "Write a loop using `enumerate(coefs)` which computes the value y of any polynomial, given x and coefs.\n",
    "\n"
   ]
  },
  {
   "cell_type": "code",
   "execution_count": null,
   "id": "0aad2569",
   "metadata": {},
   "outputs": [],
   "source": []
  }
 ],
 "metadata": {
  "kernelspec": {
   "display_name": "Python 3",
   "language": "python",
   "name": "python3"
  },
  "language_info": {
   "codemirror_mode": {
    "name": "ipython",
    "version": 3
   },
   "file_extension": ".py",
   "mimetype": "text/x-python",
   "name": "python",
   "nbconvert_exporter": "python",
   "pygments_lexer": "ipython3",
   "version": "3.9.5"
  }
 },
 "nbformat": 4,
 "nbformat_minor": 5
}
